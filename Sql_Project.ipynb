{
  "nbformat": 4,
  "nbformat_minor": 0,
  "metadata": {
    "colab": {
      "provenance": [],
      "authorship_tag": "ABX9TyOBPIsx5cvz5/iT67tzue39",
      "include_colab_link": true
    },
    "kernelspec": {
      "name": "python3",
      "display_name": "Python 3"
    },
    "language_info": {
      "name": "python"
    }
  },
  "cells": [
    {
      "cell_type": "markdown",
      "metadata": {
        "id": "view-in-github",
        "colab_type": "text"
      },
      "source": [
        "<a href=\"https://colab.research.google.com/github/Gopisetti9Bhargav/BhargavNaidu9/blob/main/Sql_Project.ipynb\" target=\"_parent\"><img src=\"https://colab.research.google.com/assets/colab-badge.svg\" alt=\"Open In Colab\"/></a>"
      ]
    },
    {
      "cell_type": "code",
      "execution_count": 1,
      "metadata": {
        "colab": {
          "base_uri": "https://localhost:8080/"
        },
        "id": "5H5TTB0VZB0P",
        "outputId": "882cd486-534d-4a12-d216-94d26383152c"
      },
      "outputs": [
        {
          "output_type": "stream",
          "name": "stdout",
          "text": [
            "Mounted at /content/drive\n"
          ]
        }
      ],
      "source": [
        "from google.colab import drive\n",
        "drive.mount('/content/drive')"
      ]
    },
    {
      "cell_type": "code",
      "source": [
        "!apt-get install sqlite3\n",
        "!pip install pandas"
      ],
      "metadata": {
        "colab": {
          "base_uri": "https://localhost:8080/"
        },
        "id": "rqhE-KDXZTuZ",
        "outputId": "cd7a3fc3-3c80-4ed4-b39c-9dd924494398"
      },
      "execution_count": 2,
      "outputs": [
        {
          "output_type": "stream",
          "name": "stdout",
          "text": [
            "Reading package lists... Done\n",
            "Building dependency tree... Done\n",
            "Reading state information... Done\n",
            "Suggested packages:\n",
            "  sqlite3-doc\n",
            "The following NEW packages will be installed:\n",
            "  sqlite3\n",
            "0 upgraded, 1 newly installed, 0 to remove and 38 not upgraded.\n",
            "Need to get 769 kB of archives.\n",
            "After this operation, 1,874 kB of additional disk space will be used.\n",
            "Get:1 http://archive.ubuntu.com/ubuntu jammy-updates/main amd64 sqlite3 amd64 3.37.2-2ubuntu0.5 [769 kB]\n",
            "Fetched 769 kB in 1s (599 kB/s)\n",
            "Selecting previously unselected package sqlite3.\n",
            "(Reading database ... 126675 files and directories currently installed.)\n",
            "Preparing to unpack .../sqlite3_3.37.2-2ubuntu0.5_amd64.deb ...\n",
            "Unpacking sqlite3 (3.37.2-2ubuntu0.5) ...\n",
            "Setting up sqlite3 (3.37.2-2ubuntu0.5) ...\n",
            "Processing triggers for man-db (2.10.2-1) ...\n",
            "Requirement already satisfied: pandas in /usr/local/lib/python3.12/dist-packages (2.2.2)\n",
            "Requirement already satisfied: numpy>=1.26.0 in /usr/local/lib/python3.12/dist-packages (from pandas) (2.0.2)\n",
            "Requirement already satisfied: python-dateutil>=2.8.2 in /usr/local/lib/python3.12/dist-packages (from pandas) (2.9.0.post0)\n",
            "Requirement already satisfied: pytz>=2020.1 in /usr/local/lib/python3.12/dist-packages (from pandas) (2025.2)\n",
            "Requirement already satisfied: tzdata>=2022.7 in /usr/local/lib/python3.12/dist-packages (from pandas) (2025.2)\n",
            "Requirement already satisfied: six>=1.5 in /usr/local/lib/python3.12/dist-packages (from python-dateutil>=2.8.2->pandas) (1.17.0)\n"
          ]
        }
      ]
    },
    {
      "cell_type": "code",
      "source": [
        "import sqlite3\n",
        "import pandas as pd\n",
        "import os"
      ],
      "metadata": {
        "id": "ejflhMMZZy1N"
      },
      "execution_count": 4,
      "outputs": []
    },
    {
      "cell_type": "code",
      "source": [
        "conn=sqlite3.connect(\"my_database.db\")"
      ],
      "metadata": {
        "id": "uYYOqhd9aCed"
      },
      "execution_count": 6,
      "outputs": []
    },
    {
      "cell_type": "code",
      "source": [
        "#Define the correct path for the database\n",
        "db_path=\"/content/drive/MyDrive/my_database.db\""
      ],
      "metadata": {
        "id": "qLWyXBqeIws1"
      },
      "execution_count": 8,
      "outputs": []
    },
    {
      "cell_type": "code",
      "source": [
        "db_folder=\"/content/drive/MyDrive/SqlDB Folder\"\n",
        "os.makedirs(db_folder, exist_ok=True)  #check folder exist\n",
        "db_path=os.path.join(db_folder, \"my_database.db\")\n",
        "conn=sqlite3.connect(db_path)\n",
        "cursor=conn.cursor()\n",
        "print(\"Database connected at:\", db_path)"
      ],
      "metadata": {
        "colab": {
          "base_uri": "https://localhost:8080/"
        },
        "id": "7VaXT0FBI-fl",
        "outputId": "2adb73b7-9549-4f2d-800f-22fb825085ad"
      },
      "execution_count": 9,
      "outputs": [
        {
          "output_type": "stream",
          "name": "stdout",
          "text": [
            "Database connected at: /content/drive/MyDrive/SqlDB Folder/my_database.db\n"
          ]
        }
      ]
    },
    {
      "cell_type": "markdown",
      "source": [
        "**Customer Table**"
      ],
      "metadata": {
        "id": "7YJ6mc8oMLbs"
      }
    },
    {
      "cell_type": "code",
      "source": [
        "cursor.execute('''\n",
        "CREATE TABLE BANK_CUSTOMER ( customer_id INT ,\n",
        "             \tcustomer_name VARCHAR(20),\n",
        "             \tAddress \tVARCHAR(20),\n",
        "             \tstate_code  VARCHAR(3) ,\n",
        "             \tTelephone   VARCHAR(10)\t);\n",
        "\n",
        "''')\n",
        "conn.commit()"
      ],
      "metadata": {
        "id": "1eoUk8zsLpbI"
      },
      "execution_count": 10,
      "outputs": []
    },
    {
      "cell_type": "code",
      "source": [
        "def insert_BANK_CUSTOMER(customer_id, customer_name, Address, state_code, Telephone):\n",
        "  cursor.execute(\"INSERT INTO BANK_CUSTOMER(customer_id, customer_name, Address, state_code, Telephone) VALUES(?,?,?,?,?)\",\n",
        "                 (customer_id, customer_name, Address, state_code, Telephone))\n",
        "  conn.commit()\n",
        "# Insert\n",
        "insert_BANK_CUSTOMER(123001,\"Oliver\", \"225-5, Emeryville\", \"CA\" , \"1897614500\")\n",
        "insert_BANK_CUSTOMER(123002,\"George\", \"194-6,New brighton\",\"MN\" , \"1897617000\")"
      ],
      "metadata": {
        "id": "xPp96SQuNIsa"
      },
      "execution_count": 13,
      "outputs": []
    },
    {
      "cell_type": "code",
      "source": [
        "insert_BANK_CUSTOMER(123003,\"Harry\", \"2909-5,walnut creek\",\"CA\" , \"1897617866\");\n",
        "insert_BANK_CUSTOMER(123004,\"Jack\", \"229-5, Concord\",  \t\"CA\" , \"1897627999\");"
      ],
      "metadata": {
        "id": "bcjKTjGFRtX8"
      },
      "execution_count": 17,
      "outputs": []
    },
    {
      "cell_type": "code",
      "source": [
        "pip install tabulate"
      ],
      "metadata": {
        "colab": {
          "base_uri": "https://localhost:8080/"
        },
        "id": "KZ1svOnuP-vM",
        "outputId": "095d5bec-9dd1-435c-9c31-795c427fa8e9"
      },
      "execution_count": 14,
      "outputs": [
        {
          "output_type": "stream",
          "name": "stdout",
          "text": [
            "Requirement already satisfied: tabulate in /usr/local/lib/python3.12/dist-packages (0.9.0)\n"
          ]
        }
      ]
    },
    {
      "cell_type": "code",
      "source": [
        "from tabulate import tabulate\n",
        "# Fetch data\n",
        "cursor.execute(\"SELECT * FROM BANK_CUSTOMER\")\n",
        "rows=cursor.fetchall()\n",
        "\n",
        "# Get column names\n",
        "column_names=[desc[0] for desc in cursor.description]\n",
        "\n",
        "# Print in tabular format\n",
        "print(tabulate(rows, headers=column_names, tablefmt=\"grid\"))"
      ],
      "metadata": {
        "colab": {
          "base_uri": "https://localhost:8080/"
        },
        "id": "8GqdkFNRQQ_2",
        "outputId": "22fc8f36-6bb8-4609-afcf-dbaaa1bdfd01"
      },
      "execution_count": 18,
      "outputs": [
        {
          "output_type": "stream",
          "name": "stdout",
          "text": [
            "+---------------+-----------------+---------------------+--------------+-------------+\n",
            "|   customer_id | customer_name   | Address             | state_code   |   Telephone |\n",
            "+===============+=================+=====================+==============+=============+\n",
            "|        123001 | Oliver          | 225-5, Emeryville   | CA           |  1897614500 |\n",
            "+---------------+-----------------+---------------------+--------------+-------------+\n",
            "|        123002 | George          | 194-6,New brighton  | MN           |  1897617000 |\n",
            "+---------------+-----------------+---------------------+--------------+-------------+\n",
            "|        123001 | Oliver          | 225-5, Emeryville   | CA           |  1897614500 |\n",
            "+---------------+-----------------+---------------------+--------------+-------------+\n",
            "|        123002 | George          | 194-6,New brighton  | MN           |  1897617000 |\n",
            "+---------------+-----------------+---------------------+--------------+-------------+\n",
            "|        123003 | Harry           | 2909-5,walnut creek | CA           |  1897617866 |\n",
            "+---------------+-----------------+---------------------+--------------+-------------+\n",
            "|        123004 | Jack            | 229-5, Concord      | CA           |  1897627999 |\n",
            "+---------------+-----------------+---------------------+--------------+-------------+\n"
          ]
        }
      ]
    },
    {
      "cell_type": "code",
      "source": [],
      "metadata": {
        "id": "f2RZKMnLRFLy"
      },
      "execution_count": null,
      "outputs": []
    }
  ]
}